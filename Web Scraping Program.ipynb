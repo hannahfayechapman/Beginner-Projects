{
 "cells": [
  {
   "cell_type": "code",
   "execution_count": null,
   "metadata": {},
   "outputs": [],
   "source": [
    "import requests\n",
    "from bs4 import BeautifulSoup as bs"
   ]
  },
  {
   "cell_type": "code",
   "execution_count": null,
   "metadata": {},
   "outputs": [],
   "source": [
    "# get profile image from Github profile\n",
    "\n",
    "github_user = input('Input Github User: ')\n",
    "url = 'https://github.com/'+github_user\n",
    "\n",
    "r = requests.get(url)\n",
    "soup = bs(r.content, 'html.parser')\n",
    "profile_image = soup.find('img',{'alt':'Avatar'})['src']\n",
    "\n",
    "print(profile_image)"
   ]
  },
  {
   "cell_type": "code",
   "execution_count": null,
   "metadata": {},
   "outputs": [],
   "source": [
    "# retrieve all <a>\n",
    "\n",
    "github_user = input('Input Github User: ')\n",
    "url = 'https://github.com/'+github_user\n",
    "\n",
    "r = requests.get(url)\n",
    "soup = bs(r.content, 'html.parser')\n",
    "\n",
    "print(soup.find_all('a'))"
   ]
  },
  {
   "cell_type": "code",
   "execution_count": null,
   "metadata": {},
   "outputs": [],
   "source": [
    "# extract all URLs found within <a> tags\n",
    "\n",
    "github_user = input('Input Github User: ')\n",
    "url = 'https://github.com/'+github_user\n",
    "\n",
    "r = requests.get(url)\n",
    "soup = bs(r.content, 'html.parser')\n",
    "\n",
    "for link in soup.find_all('a'):\n",
    "    print(link.get('href'))"
   ]
  },
  {
   "cell_type": "code",
   "execution_count": null,
   "metadata": {},
   "outputs": [],
   "source": [
    "# find all link3\n",
    "\n",
    "github_user = input('Input Github User: ')\n",
    "url = 'https://github.com/'+github_user\n",
    "\n",
    "r = requests.get(url)\n",
    "soup = bs(r.content, 'html.parser')\n",
    "\n",
    "print(soup.find(id='link3'))"
   ]
  },
  {
   "cell_type": "code",
   "execution_count": null,
   "metadata": {},
   "outputs": [],
   "source": [
    "# get all text from Github profile\n",
    "\n",
    "github_user = input('Input Github User: ')\n",
    "url = 'https://github.com/'+github_user\n",
    "\n",
    "r = requests.get(url)\n",
    "soup = bs(r.content, 'html.parser')\n",
    "\n",
    "print(soup.get_text())"
   ]
  },
  {
   "cell_type": "code",
   "execution_count": null,
   "metadata": {},
   "outputs": [],
   "source": []
  }
 ],
 "metadata": {
  "kernelspec": {
   "display_name": "Python 3",
   "language": "python",
   "name": "python3"
  },
  "language_info": {
   "codemirror_mode": {
    "name": "ipython",
    "version": 3
   },
   "file_extension": ".py",
   "mimetype": "text/x-python",
   "name": "python",
   "nbconvert_exporter": "python",
   "pygments_lexer": "ipython3",
   "version": "3.8.5"
  }
 },
 "nbformat": 4,
 "nbformat_minor": 4
}
