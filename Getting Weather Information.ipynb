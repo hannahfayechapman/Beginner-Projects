{
 "cells": [
  {
   "cell_type": "code",
   "execution_count": 6,
   "metadata": {},
   "outputs": [],
   "source": [
    "import requests\n",
    "from pprint import pprint"
   ]
  },
  {
   "cell_type": "code",
   "execution_count": 9,
   "metadata": {},
   "outputs": [
    {
     "name": "stdout",
     "output_type": "stream",
     "text": [
      "Enter a city London\n",
      "{'base': 'stations',\n",
      " 'clouds': {'all': 75},\n",
      " 'cod': 200,\n",
      " 'coord': {'lat': 51.5085, 'lon': -0.1257},\n",
      " 'dt': 1617258171,\n",
      " 'id': 2643743,\n",
      " 'main': {'feels_like': 277.98,\n",
      "          'humidity': 87,\n",
      "          'pressure': 1023,\n",
      "          'temp': 281.38,\n",
      "          'temp_max': 281.48,\n",
      "          'temp_min': 280.93},\n",
      " 'name': 'London',\n",
      " 'sys': {'country': 'GB',\n",
      "         'id': 1414,\n",
      "         'sunrise': 1617255327,\n",
      "         'sunset': 1617301974,\n",
      "         'type': 1},\n",
      " 'timezone': 3600,\n",
      " 'visibility': 3700,\n",
      " 'weather': [{'description': 'haze', 'icon': '50d', 'id': 721, 'main': 'Haze'}],\n",
      " 'wind': {'deg': 0, 'speed': 3.6}}\n"
     ]
    }
   ],
   "source": [
    "# openweathermaps.org/api-keys\n",
    "api_key = '4e329871a4a16b31d681bc97b6152553'\n",
    "\n",
    "city = input('Enter a city ')\n",
    "\n",
    "base_url = 'http://api.openweathermap.org/data/2.5/weather?appid='+api_key+'&q='+city\n",
    "\n",
    "weather_data = requests.get(base_url).json()\n",
    "\n",
    "pprint(weather_data)"
   ]
  },
  {
   "cell_type": "code",
   "execution_count": null,
   "metadata": {},
   "outputs": [],
   "source": []
  }
 ],
 "metadata": {
  "kernelspec": {
   "display_name": "Python 3",
   "language": "python",
   "name": "python3"
  },
  "language_info": {
   "codemirror_mode": {
    "name": "ipython",
    "version": 3
   },
   "file_extension": ".py",
   "mimetype": "text/x-python",
   "name": "python",
   "nbconvert_exporter": "python",
   "pygments_lexer": "ipython3",
   "version": "3.8.5"
  }
 },
 "nbformat": 4,
 "nbformat_minor": 4
}
