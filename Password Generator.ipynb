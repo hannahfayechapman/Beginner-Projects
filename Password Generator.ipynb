{
 "cells": [
  {
   "cell_type": "code",
   "execution_count": 5,
   "metadata": {},
   "outputs": [],
   "source": [
    "import random"
   ]
  },
  {
   "cell_type": "code",
   "execution_count": null,
   "metadata": {},
   "outputs": [
    {
     "name": "stdout",
     "output_type": "stream",
     "text": [
      "Welcome to the Password Generator\n"
     ]
    }
   ],
   "source": [
    "print('Welcome to the Password Generator')\n",
    "\n",
    "chars = 'abcdefghijklmnopqrstuvwxyzABCDEFGHIJKLMNOPQRSTUVWXYZ!?@£$%^&*().,0123456789'\n",
    "\n",
    "number = input('How many passwords do you want to generate? ')\n",
    "number = int(number)\n",
    "\n",
    "length = input('How many characters do you want in the password? ')\n",
    "length = int(length)\n",
    "\n",
    "print('\\nHere are your passwords: ')\n",
    "\n",
    "for password in range(number):\n",
    "    passwords = ''\n",
    "    for c in range(length):\n",
    "        passwords += random.choice(chars)\n",
    "    print(passwords)"
   ]
  },
  {
   "cell_type": "code",
   "execution_count": null,
   "metadata": {},
   "outputs": [],
   "source": []
  }
 ],
 "metadata": {
  "kernelspec": {
   "display_name": "Python 3",
   "language": "python",
   "name": "python3"
  },
  "language_info": {
   "codemirror_mode": {
    "name": "ipython",
    "version": 3
   },
   "file_extension": ".py",
   "mimetype": "text/x-python",
   "name": "python",
   "nbconvert_exporter": "python",
   "pygments_lexer": "ipython3",
   "version": "3.8.5"
  }
 },
 "nbformat": 4,
 "nbformat_minor": 4
}
